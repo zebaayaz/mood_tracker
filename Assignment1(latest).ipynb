{
  "nbformat": 4,
  "nbformat_minor": 0,
  "metadata": {
    "colab": {
      "name": "Assignment1(latest).ipynb",
      "provenance": [],
      "private_outputs": true,
      "collapsed_sections": [],
      "toc_visible": true,
      "authorship_tag": "ABX9TyNl4iZKWipoz8LRU3gJO7Ze",
      "include_colab_link": true
    },
    "kernelspec": {
      "name": "python3",
      "display_name": "Python 3"
    },
    "accelerator": "GPU"
  },
  "cells": [
    {
      "cell_type": "markdown",
      "metadata": {
        "id": "view-in-github",
        "colab_type": "text"
      },
      "source": [
        "<a href=\"https://colab.research.google.com/github/zebaayaz/mood_tracker/blob/master/Assignment1(latest).ipynb\" target=\"_parent\"><img src=\"https://colab.research.google.com/assets/colab-badge.svg\" alt=\"Open In Colab\"/></a>"
      ]
    },
    {
      "cell_type": "code",
      "metadata": {
        "id": "yrH4mOeHwgqy",
        "colab_type": "code",
        "colab": {}
      },
      "source": [
        "import pandas as pd\n",
        "\n",
        "from sklearn.model_selection import train_test_split\n",
        "\n",
        "import numpy as np\n"
      ],
      "execution_count": 0,
      "outputs": []
    },
    {
      "cell_type": "code",
      "metadata": {
        "id": "YT-ta1UOwuQi",
        "colab_type": "code",
        "colab": {}
      },
      "source": [
        "dataset =pd.read_csv('housing.csv')\n",
        "\n",
        "dataset= dataset.dropna ()\n",
        "\n",
        "print(\"Here are the first ten records of housing dataset:\")\n",
        "dataset.head(10)\n"
      ],
      "execution_count": 0,
      "outputs": []
    },
    {
      "cell_type": "code",
      "metadata": {
        "id": "6-rDElhmyLBr",
        "colab_type": "code",
        "colab": {}
      },
      "source": [
        "import matplotlib.pyplot as plt\n",
        "dataset.plot(subplots='true')\n",
        "\n",
        "\n"
      ],
      "execution_count": 0,
      "outputs": []
    },
    {
      "cell_type": "code",
      "metadata": {
        "id": "ZUaHa4m80VVD",
        "colab_type": "code",
        "colab": {}
      },
      "source": [
        "# We will predict the \"median_house_value\" column\n",
        " Y = dataset['median_house_value']\n",
        "\n",
        " X = dataset.loc[:,'longitude':'median_income']\n"
      ],
      "execution_count": 0,
      "outputs": []
    },
    {
      "cell_type": "code",
      "metadata": {
        "id": "DaQj5bDr2xOD",
        "colab_type": "code",
        "colab": {}
      },
      "source": [
        "# Splits the dataset so 70% is used for training and 30% for testing\n",
        " x_train, x_test, y_train, y_test = train_test_split(X, Y, test_size=0.3)\n",
        "\n",
        "# Converts the datasets to numpy arrays to work with our PyTorch model\n",
        "x_train_np = x_train.to_numpy()\n",
        "y_train_np = y_train.to_numpy()\n",
        "\n",
        "# Convert the testing data \n",
        "x_test_np = x_test.to_numpy()\n",
        "y_test_np = y_test.to_numpy()\n"
      ],
      "execution_count": 0,
      "outputs": []
    },
    {
      "cell_type": "code",
      "metadata": {
        "id": "U-Dz6B1d3JTH",
        "colab_type": "code",
        "colab": {}
      },
      "source": [
        "# Import the pytorch library \n",
        "import torch\n",
        "\n",
        "# Import the 1D convolution layer\n",
        "# Since we’re inputting a 1-dimensional row of data, we can’t use 2D or 3D\n",
        "from torch.nn import Conv1d\n",
        "\n",
        "# Import the max pooling layer\n",
        "from torch.nn import MaxPool1d\n",
        "\n",
        "# Import the flatten layer\n",
        "from torch.nn import Flatten\n",
        "\n",
        "# Import the linear layer\n",
        "from torch.nn import Linear\n",
        "\n",
        "# Import the ReLU activation function \n",
        "from torch.nn.functional import relu\n",
        "\n",
        "# Import the DataLoader and TensorDataset libraries from PyTorch # to work with our datasets\n",
        "from torch.utils.data import DataLoader, TensorDataset\n"
      ],
      "execution_count": 0,
      "outputs": []
    },
    {
      "cell_type": "code",
      "metadata": {
        "id": "TCbTi3js4YgL",
        "colab_type": "code",
        "colab": {}
      },
      "source": [
        "# Our class MUST be a subclass of torch.nn.Module\n",
        "class CnnRegressor(torch.nn.Module):\n",
        "\n",
        "# Define the initialization method\n",
        "  def __init__(self, batch_size, inputs, outputs): \n",
        "    super(CnnRegressor, self).__init__()  \n",
        "    self.batch_size = batch_size\n",
        "    self.inputs = inputs\n",
        "    self.outputs = outputs\n",
        "\n",
        "\n",
        "    self.input_layer = Conv1d(inputs, batch_size, 1)\n",
        "    self.max_pooling_layer = MaxPool1d(1)  \n",
        "    self.conv_layer = Conv1d(batch_size, 128, 1)\n",
        "    self.flatten_layer = Flatten()\n",
        "    self.linear_layer = Linear(128, 64)\n",
        "    self.flatten_layer = Flatten()\n",
        "    self.output_layer = Linear(64, outputs)\n",
        "\n",
        "  def feed(self,input):\n",
        "    input = input.reshape((self.batch_size, self.inputs, 1))\n",
        "    output = relu(self.input_layer(input))\n",
        "    output = self.max_pooling_layer(output)\n",
        "    output = relu(self.conv_layer(output))\n",
        "    output = self.flatten_layer(output)\n",
        "    output = self.linear_layer(output)\n",
        "    \n",
        "    output = self.output_layer(output)\n",
        "    return output\n"
      ],
      "execution_count": 0,
      "outputs": []
    },
    {
      "cell_type": "code",
      "metadata": {
        "colab_type": "code",
        "id": "ow6pyIek7vwx",
        "colab": {}
      },
      "source": [
        "# Our class MUST be a subclass of torch.nn.Module\n",
        "class CnnRegressor(torch.nn.Module):\n",
        "\n",
        "# Define the initialization method\n",
        "  def __init__(self, batch_size, inputs, outputs): \n",
        "    super(CnnRegressor, self).__init__()  \n",
        "    self.batch_size = batch_size\n",
        "    self.inputs = inputs\n",
        "    self.outputs = outputs\n",
        "\n",
        "\n",
        "    self.input_layer = Conv1d(inputs, batch_size, 1)\n",
        "    self.max_pooling_layer = MaxPool1d(1)  \n",
        "    self.conv_layer = Conv1d(batch_size, 128, 1)\n",
        "    self.flatten_layer = Flatten()\n",
        "    self.linear_layer = Linear(128, 64)\n",
        "    self.flatten_layer = Flatten()\n",
        "    self.output_layer = Linear(64, outputs)\n",
        "\n",
        "  def feed(self,input):\n",
        "    input = input.reshape((self.batch_size, self.inputs, 1))\n",
        "    output = relu(self.input_layer(input))\n",
        "    output = self.max_pooling_layer(output)\n",
        "    output = relu(self.conv_layer(output))\n",
        "    output = self.flatten_layer(output)\n",
        "    output = self.linear_layer(output)\n",
        "    output = self.flatten_layer(output)\n",
        "    output = self.output_layer(output)\n",
        "    return output\n"
      ],
      "execution_count": 0,
      "outputs": []
    },
    {
      "cell_type": "code",
      "metadata": {
        "id": "sapCv9A-Fu2e",
        "colab_type": "code",
        "colab": {}
      },
      "source": [
        "\n",
        "from torch.optim import SGD\n",
        "from torch.nn import L1Loss\n",
        "!pip install pytorch-ignite\n",
        "from ignite.contrib.metrics.regression.r2_score import R2Score\n",
        "   \n"
      ],
      "execution_count": 0,
      "outputs": []
    },
    {
      "cell_type": "code",
      "metadata": {
        "id": "zjJiw3tsR0ZX",
        "colab_type": "code",
        "colab": {}
      },
      "source": [
        "\n",
        "batch_size = 60\n",
        "\n",
        "model = CnnRegressor(batch_size, X.shape[1], 1)\n",
        "\n",
        "model.cuda()\n"
      ],
      "execution_count": 0,
      "outputs": []
    },
    {
      "cell_type": "code",
      "metadata": {
        "id": "L5M6Ex6dSLdt",
        "colab_type": "code",
        "colab": {}
      },
      "source": [
        "\n",
        "def model_loss(model, dataset, train = False, optimizer = None):\n",
        "  performance = L1Loss()\n",
        "  score_metric = R2Score()\n",
        "  avg_loss = 0\n",
        "  avg_score = 0\n",
        "  count = 0\n",
        "  for input, output in iter(dataset):\n",
        "    predictions = model.feed(input)\n",
        "    loss = performance(predictions, output)\n",
        "    score_metric.update([predictions, output]) \n",
        "    score = score_metric.compute()\n",
        "    if(train):\n",
        "      optimizer.zero_grad()\n",
        "      loss.backward()\n",
        "      optimizer.step()\n",
        "    avg_loss += loss.item()\n",
        "    avg_score += score\n",
        "    count += 1\n",
        "  return avg_loss / count, avg_score / count\n",
        "\n"
      ],
      "execution_count": 0,
      "outputs": []
    },
    {
      "cell_type": "code",
      "metadata": {
        "id": "SZKHx120TSg1",
        "colab_type": "code",
        "colab": {}
      },
      "source": [
        "epochs = 150\n",
        "optimizer = SGD(model.parameters(), lr=1e-5)\n",
        "\n",
        "inputs = torch.from_numpy(x_train_np).cuda().float()\n",
        "outputs = torch.from_numpy(y_train_np.reshape(y_train_np.shape[0], 1)).cuda().float()\n",
        "\n",
        "tensor = TensorDataset(inputs, outputs)\n",
        "loader = DataLoader(tensor, batch_size, shuffle=True, drop_last=True)\n",
        "\n",
        "for epoch in range(epochs):\n",
        "  avg_loss, avg_r2_score = model_loss(model, loader, train=True, optimizer=optimizer)\n",
        "  print(\"Epoch \" + str(epoch + 1) + \":\\n\\tLoss = \" + str(avg_loss) + \"\\n\\tR^2 Score = \" + str(avg_r2_score))\n",
        "\n"
      ],
      "execution_count": 0,
      "outputs": []
    },
    {
      "cell_type": "code",
      "metadata": {
        "id": "o90nkgkRXUZI",
        "colab_type": "code",
        "colab": {}
      },
      "source": [
        "\n",
        "inputs = torch.from_numpy(x_test_np).cuda().float()\n",
        "outputs = torch.from_numpy(y_test_np.reshape(y_test_np.shape[0], 1)).cuda().float()\n",
        "\n",
        "# Create a DataLoader instance to work with our batches\n",
        "tensor = TensorDataset(inputs, outputs)\n",
        "loader = DataLoader(tensor, batch_size, shuffle=True, drop_last=True)\n",
        "\n",
        "# Output the average performance of the model \n",
        "avg_loss, avg_r2_score = model_loss(model, loader)\n",
        "print(\"The model's L1 loss is: \" + str(avg_loss))\n",
        "print(\"The model's R^2 score is: \" + str(avg_r2_score))\n"
      ],
      "execution_count": 0,
      "outputs": []
    }
  ]
}